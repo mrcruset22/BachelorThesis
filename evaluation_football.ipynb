{
 "cells": [
  {
   "cell_type": "code",
   "execution_count": 1,
   "metadata": {
    "collapsed": true
   },
   "outputs": [],
   "source": [
    "import pandas as pd\n",
    "import numpy as np\n",
    "import matplotlib.pyplot as plt\n",
    "import seaborn as sns\n",
    "from sklearn.metrics import accuracy_score, f1_score, precision_score, recall_score, confusion_matrix\n",
    "from sklearn.discriminant_analysis import LinearDiscriminantAnalysis\n",
    "from sklearn.feature_selection import SelectKBest, f_classif, mutual_info_classif, chi2, RFE, SelectFromModel, SequentialFeatureSelector\n",
    "from sklearn.model_selection import train_test_split\n",
    "from sklearn import svm\n",
    "from sklearn import tree\n",
    "from sklearn import ensemble\n",
    "from sklearn.impute import SimpleImputer\n",
    "from sklearn.model_selection import GridSearchCV\n",
    "import ada"
   ]
  },
  {
   "cell_type": "code",
   "execution_count": 2,
   "outputs": [],
   "source": [
    "model_to_use = \"svm\"\n",
    "def model_creator(model_to_use):\n",
    "    if model_to_use == \"cart\":\n",
    "        return tree.DecisionTreeClassifier()\n",
    "    elif model_to_use == \"random_forest\":\n",
    "        return ensemble.RandomForestClassifier()\n",
    "    elif model_to_use == \"xgboost\":\n",
    "        return ensemble.GradientBoostingClassifier()\n",
    "    elif model_to_use == \"nonlinearSVM\":\n",
    "        return svm.SVC(kernel=\"rbf\")\n",
    "    else:\n",
    "        return svm.SVC(kernel= 'linear', random_state=42)"
   ],
   "metadata": {
    "collapsed": false,
    "pycharm": {
     "name": "#%%\n"
    }
   }
  },
  {
   "cell_type": "code",
   "execution_count": 3,
   "outputs": [],
   "source": [
    "base = pd.read_csv(\"football/football.csv\", index_col=0)\n",
    "base.drop(columns=['date'], inplace=True)\n",
    "base = pd.get_dummies(base)\n",
    "base = base.apply(pd.to_numeric, errors='coerce')\n",
    "imp = SimpleImputer(missing_values=np.nan, strategy='mean')\n",
    "imp.fit(base)\n",
    "base = imp.transform(base)\n",
    "X_train, X_test, y_train, y_test = train_test_split(base[:, 1:], base[:, 0], test_size=0.3, random_state=42)"
   ],
   "metadata": {
    "collapsed": false,
    "pycharm": {
     "name": "#%%\n"
    }
   }
  },
  {
   "cell_type": "code",
   "execution_count": 4,
   "outputs": [
    {
     "name": "stdout",
     "output_type": "stream",
     "text": [
      "Accuracy train: 0.682\n",
      "Accuracy test: 0.549\n",
      "Wall time: 98.7 ms\n"
     ]
    }
   ],
   "source": [
    "%%time\n",
    "model = model_creator(model_to_use)\n",
    "model.fit(X_train, y_train)\n",
    "print('Accuracy train: %.3f' % accuracy_score(y_train, model.predict(X_train)))\n",
    "print('Accuracy test: %.3f' % accuracy_score(y_test, model.predict(X_test)))"
   ],
   "metadata": {
    "collapsed": false,
    "pycharm": {
     "name": "#%%\n"
    }
   }
  },
  {
   "cell_type": "code",
   "execution_count": 5,
   "outputs": [
    {
     "name": "stdout",
     "output_type": "stream",
     "text": [
      "Wall time: 239 ms\n"
     ]
    }
   ],
   "source": [
    "%%time\n",
    "connections = pd.read_csv(\"football/connections.csv\")\n",
    "b = pd.read_csv(\"football/football.csv\")\n",
    "for i in range(len(connections)):\n",
    "    b = b.merge(pd.read_csv(f\"football/{connections['to_table'][i]}\"), left_on=connections[\"from_key\"][i], right_on=connections[\"to_key\"][i], suffixes=('', 'y'))\n",
    "b = b[b.columns.drop(list(b.filter(regex='_id')))]\n",
    "b.drop(columns=['date'], inplace=True)\n",
    "b = pd.get_dummies(b)\n",
    "keys = b.keys()\n",
    "b = b.apply(pd.to_numeric, errors='coerce')\n",
    "imp = SimpleImputer(missing_values=np.nan, strategy='mean')\n",
    "imp.fit(b)\n",
    "b = imp.transform(b)\n",
    "b = pd.DataFrame(b, columns=keys)\n",
    "X_train, X_test, y_train, y_test = train_test_split(b.drop(columns=['class']), b['class'], test_size=0.3, random_state=42)"
   ],
   "metadata": {
    "collapsed": false,
    "pycharm": {
     "name": "#%%\n"
    }
   }
  },
  {
   "cell_type": "markdown",
   "source": [],
   "metadata": {
    "collapsed": false
   }
  },
  {
   "cell_type": "markdown",
   "source": [],
   "metadata": {
    "collapsed": false
   }
  },
  {
   "cell_type": "code",
   "execution_count": 6,
   "outputs": [
    {
     "name": "stdout",
     "output_type": "stream",
     "text": [
      "Accuracy train: 1.000\n",
      "Accuracy test: 1.000\n",
      "Wall time: 9.68 s\n"
     ]
    }
   ],
   "source": [
    "%%time\n",
    "model = model_creator(model_to_use)\n",
    "model.fit(X_train, y_train)\n",
    "print('Accuracy train: %.3f' % accuracy_score(y_train, model.predict(X_train)))\n",
    "print('Accuracy test: %.3f' % accuracy_score(y_test, model.predict(X_test)))"
   ],
   "metadata": {
    "collapsed": false,
    "pycharm": {
     "name": "#%%\n"
    }
   }
  },
  {
   "cell_type": "code",
   "execution_count": 7,
   "outputs": [
    {
     "name": "stdout",
     "output_type": "stream",
     "text": [
      "Accuracy train: 1.000\n",
      "Accuracy test: 1.000\n",
      "Wall time: 29.9 ms\n"
     ]
    }
   ],
   "source": [
    "%%time\n",
    "X_new = SelectKBest(f_classif, k=4).fit_transform(b.drop(columns=['class']), b['class'])\n",
    "X_train, X_test, y_train, y_test = train_test_split(X_new, b['class'], test_size=0.3, random_state=42)\n",
    "model = model_creator(model_to_use)\n",
    "model.fit(X_train, y_train)\n",
    "print('Accuracy train: %.3f' % accuracy_score(y_train, model.predict(X_train)))\n",
    "print('Accuracy test: %.3f' % accuracy_score(y_test, model.predict(X_test)))"
   ],
   "metadata": {
    "collapsed": false,
    "pycharm": {
     "name": "#%%\n"
    }
   }
  },
  {
   "cell_type": "code",
   "execution_count": 8,
   "outputs": [
    {
     "name": "stdout",
     "output_type": "stream",
     "text": [
      "Accuracy train: 1.000\n",
      "Accuracy test: 1.000\n",
      "Wall time: 8.67 s\n"
     ]
    }
   ],
   "source": [
    "%%time\n",
    "base = pd.read_csv(\"football/football.csv\", index_col=0)\n",
    "base.drop(columns=['date'], inplace=True)\n",
    "connections = pd.read_csv(\"football/connections.csv\")\n",
    "tables = []\n",
    "for i in range(len(connections)):\n",
    "    tables.append(pd.read_csv(f\"football/{connections['to_table'][i]}\"))\n",
    "distribution = base.groupby(\"class\").count()[\"v1\"].sort_values(ascending=False)\n",
    "proportion = distribution.iloc[0] / (distribution.iloc[0] + distribution.iloc[1])\n",
    "table = ada.ada(base, tables, connections, proportion)\n",
    "base = pd.get_dummies(table)\n",
    "X_train, X_test, y_train, y_test = train_test_split(base.drop(columns=[\"class\"]), base[\"class\"], test_size=0.3, random_state=42)\n",
    "model = model_creator(model_to_use)\n",
    "model.fit(X_train, y_train)\n",
    "print('Accuracy train: %.3f' % accuracy_score(y_train, model.predict(X_train)))\n",
    "print('Accuracy test: %.3f' % accuracy_score(y_test, model.predict(X_test)))"
   ],
   "metadata": {
    "collapsed": false,
    "pycharm": {
     "name": "#%%\n"
    }
   }
  },
  {
   "cell_type": "code",
   "execution_count": 8,
   "outputs": [],
   "source": [],
   "metadata": {
    "collapsed": false,
    "pycharm": {
     "name": "#%%\n"
    }
   }
  }
 ],
 "metadata": {
  "kernelspec": {
   "display_name": "Python 3",
   "language": "python",
   "name": "python3"
  },
  "language_info": {
   "codemirror_mode": {
    "name": "ipython",
    "version": 2
   },
   "file_extension": ".py",
   "mimetype": "text/x-python",
   "name": "python",
   "nbconvert_exporter": "python",
   "pygments_lexer": "ipython2",
   "version": "2.7.6"
  }
 },
 "nbformat": 4,
 "nbformat_minor": 0
}