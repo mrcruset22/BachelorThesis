{
 "cells": [
  {
   "cell_type": "code",
   "execution_count": 1,
   "metadata": {
    "collapsed": true
   },
   "outputs": [],
   "source": [
    "import pandas as pd\n",
    "import numpy as np\n",
    "import matplotlib.pyplot as plt\n",
    "import seaborn as sns\n",
    "from sklearn.metrics import accuracy_score, f1_score, precision_score, recall_score, confusion_matrix\n",
    "from sklearn.discriminant_analysis import LinearDiscriminantAnalysis\n",
    "from sklearn.feature_selection import SelectKBest, f_classif, mutual_info_classif, chi2, RFE, SelectFromModel, SequentialFeatureSelector\n",
    "from sklearn.model_selection import train_test_split\n",
    "from sklearn import svm\n",
    "from sklearn import tree\n",
    "from sklearn import ensemble\n",
    "from sklearn.impute import SimpleImputer\n",
    "from sklearn.model_selection import GridSearchCV\n",
    "from sklearn.preprocessing import StandardScaler\n",
    "import ada"
   ]
  },
  {
   "cell_type": "code",
   "execution_count": 2,
   "outputs": [],
   "source": [
    "model_to_use = \"xgboost\"\n",
    "def model_creator(model_to_use):\n",
    "    if model_to_use == \"cart\":\n",
    "        return tree.DecisionTreeClassifier()\n",
    "    elif model_to_use == \"random_forest\":\n",
    "        return ensemble.RandomForestClassifier()\n",
    "    elif model_to_use == \"xgboost\":\n",
    "        return ensemble.GradientBoostingClassifier()\n",
    "    elif model_to_use == \"nonlinearSVM\":\n",
    "        return svm.SVC(kernel=\"rbf\")\n",
    "    else:\n",
    "        return svm.SVC(kernel= 'linear', random_state=42)"
   ],
   "metadata": {
    "collapsed": false,
    "pycharm": {
     "name": "#%%\n"
    }
   }
  },
  {
   "cell_type": "code",
   "execution_count": 2,
   "outputs": [],
   "source": [],
   "metadata": {
    "collapsed": false,
    "pycharm": {
     "name": "#%%\n"
    }
   }
  },
  {
   "cell_type": "code",
   "execution_count": 3,
   "outputs": [],
   "source": [
    "base = pd.read_csv(\"steel-plate-fault/steel_plate_fault.csv\", index_col=0)\n",
    "base = pd.get_dummies(base)\n",
    "keys = base.keys()\n",
    "base = base.apply(pd.to_numeric, errors='coerce')\n",
    "imp = SimpleImputer(missing_values=np.nan, strategy='mean')\n",
    "imp.fit(base)\n",
    "base = imp.transform(base)\n",
    "base = pd.DataFrame(base, columns=keys)\n",
    "X_train, X_test, y_train, y_test = train_test_split(base.drop(columns=['class']), base['class'], test_size=0.3, random_state=42)"
   ],
   "metadata": {
    "collapsed": false,
    "pycharm": {
     "name": "#%%\n"
    }
   }
  },
  {
   "cell_type": "code",
   "execution_count": 4,
   "outputs": [
    {
     "name": "stdout",
     "output_type": "stream",
     "text": [
      "Accuracy train: 0.856\n",
      "Accuracy test: 0.789\n",
      "Wall time: 249 ms\n"
     ]
    }
   ],
   "source": [
    "%%time\n",
    "scaler = StandardScaler()\n",
    "scaler.fit(X_train)\n",
    "model = model_creator(model_to_use)\n",
    "model.fit(scaler.transform(X_train), y_train)\n",
    "print('Accuracy train: %.3f' % accuracy_score(y_train, model.predict(scaler.transform(X_train))))\n",
    "print('Accuracy test: %.3f' % accuracy_score(y_test, model.predict(scaler.transform(X_test))))"
   ],
   "metadata": {
    "collapsed": false,
    "pycharm": {
     "name": "#%%\n"
    }
   }
  },
  {
   "cell_type": "code",
   "execution_count": 5,
   "outputs": [
    {
     "name": "stdout",
     "output_type": "stream",
     "text": [
      "Wall time: 84.8 ms\n"
     ]
    }
   ],
   "source": [
    "%%time\n",
    "connections = pd.read_csv(\"steel-plate-fault/connections.csv\")\n",
    "b = pd.read_csv(\"steel-plate-fault/steel_plate_fault.csv\")\n",
    "for i in range(len(connections)):\n",
    "    b = b.merge(pd.read_csv(f\"steel-plate-fault/{connections['to_table'][i]}\"), left_on=connections[\"from_key\"][i], right_on=connections[\"to_key\"][i], suffixes=('', 'y'))\n",
    "\n",
    "b = b[b.columns.drop(list(b.filter(regex='_id')))]\n",
    "b = pd.get_dummies(b)\n",
    "keys = b.keys()\n",
    "b = b.apply(pd.to_numeric, errors='coerce')\n",
    "imp = SimpleImputer(missing_values=np.nan, strategy='mean')\n",
    "imp.fit(b)\n",
    "b = imp.transform(b)\n",
    "b = pd.DataFrame(b, columns=keys)"
   ],
   "metadata": {
    "collapsed": false,
    "pycharm": {
     "name": "#%%\n"
    }
   }
  },
  {
   "cell_type": "code",
   "execution_count": 6,
   "outputs": [
    {
     "name": "stdout",
     "output_type": "stream",
     "text": [
      "Accuracy train: 1.000\n",
      "Accuracy test: 1.000\n",
      "Wall time: 1.34 s\n"
     ]
    }
   ],
   "source": [
    "%%time\n",
    "X_train, X_test, y_train, y_test = train_test_split(b.drop(columns=['class']), b[\"class\"], test_size=0.3, random_state=42)\n",
    "scaler = StandardScaler()\n",
    "scaler.fit(X_train)\n",
    "clf = model_creator(model_to_use)\n",
    "clf.fit(scaler.transform(X_train), y_train)\n",
    "print('Accuracy train: %.3f' % accuracy_score(y_train, clf.predict(scaler.transform(X_train))))\n",
    "print('Accuracy test: %.3f' % accuracy_score(y_test, clf.predict(scaler.transform(X_test))))"
   ],
   "metadata": {
    "collapsed": false,
    "pycharm": {
     "name": "#%%\n"
    }
   }
  },
  {
   "cell_type": "code",
   "execution_count": 7,
   "outputs": [
    {
     "name": "stdout",
     "output_type": "stream",
     "text": [
      "Accuracy train: 1.000\n",
      "Accuracy test: 1.000\n",
      "Wall time: 1.01 s\n"
     ]
    }
   ],
   "source": [
    "%%time\n",
    "X_new = SelectKBest(f_classif, k=25).fit_transform(b.drop(columns=['class']), b[\"class\"])\n",
    "X_train, X_test, y_train, y_test = train_test_split(X_new, b[\"class\"], test_size=0.3, random_state=42)\n",
    "scaler = StandardScaler()\n",
    "scaler.fit(X_train)\n",
    "model = model_creator(model_to_use)\n",
    "model.fit(scaler.transform(X_train), y_train)\n",
    "print('Accuracy train: %.3f' % accuracy_score(y_train, model.predict(scaler.transform(X_train))))\n",
    "print('Accuracy test: %.3f' % accuracy_score(y_test, model.predict(scaler.transform(X_test))))"
   ],
   "metadata": {
    "collapsed": false,
    "pycharm": {
     "name": "#%%\n"
    }
   }
  },
  {
   "cell_type": "code",
   "execution_count": 8,
   "outputs": [
    {
     "data": {
      "text/plain": "      type_of_fault_id  v9  v10  v11  v12  v13  v14  steel_plate_fault_id\n0                 1053   1    0    0    0    0    0                629535\n1                 7880   1    0    0    0    0    0                114895\n2                12765   1    0    0    0    0    0                 53197\n3                12226   1    0    0    0    0    0                764094\n4                12838   1    0    0    0    0    0                575797\n...                ...  ..  ...  ...  ...  ...  ...                   ...\n1936             11357   0    0    0    0    0    0                369828\n1937             15616   0    0    0    0    0    0                806310\n1938             15047   0    0    0    0    0    0                241219\n1939              8680   0    0    0    0    0    0                556248\n1940              2176   0    0    0    0    0    0                771370\n\n[1941 rows x 8 columns]",
      "text/html": "<div>\n<style scoped>\n    .dataframe tbody tr th:only-of-type {\n        vertical-align: middle;\n    }\n\n    .dataframe tbody tr th {\n        vertical-align: top;\n    }\n\n    .dataframe thead th {\n        text-align: right;\n    }\n</style>\n<table border=\"1\" class=\"dataframe\">\n  <thead>\n    <tr style=\"text-align: right;\">\n      <th></th>\n      <th>type_of_fault_id</th>\n      <th>v9</th>\n      <th>v10</th>\n      <th>v11</th>\n      <th>v12</th>\n      <th>v13</th>\n      <th>v14</th>\n      <th>steel_plate_fault_id</th>\n    </tr>\n  </thead>\n  <tbody>\n    <tr>\n      <th>0</th>\n      <td>1053</td>\n      <td>1</td>\n      <td>0</td>\n      <td>0</td>\n      <td>0</td>\n      <td>0</td>\n      <td>0</td>\n      <td>629535</td>\n    </tr>\n    <tr>\n      <th>1</th>\n      <td>7880</td>\n      <td>1</td>\n      <td>0</td>\n      <td>0</td>\n      <td>0</td>\n      <td>0</td>\n      <td>0</td>\n      <td>114895</td>\n    </tr>\n    <tr>\n      <th>2</th>\n      <td>12765</td>\n      <td>1</td>\n      <td>0</td>\n      <td>0</td>\n      <td>0</td>\n      <td>0</td>\n      <td>0</td>\n      <td>53197</td>\n    </tr>\n    <tr>\n      <th>3</th>\n      <td>12226</td>\n      <td>1</td>\n      <td>0</td>\n      <td>0</td>\n      <td>0</td>\n      <td>0</td>\n      <td>0</td>\n      <td>764094</td>\n    </tr>\n    <tr>\n      <th>4</th>\n      <td>12838</td>\n      <td>1</td>\n      <td>0</td>\n      <td>0</td>\n      <td>0</td>\n      <td>0</td>\n      <td>0</td>\n      <td>575797</td>\n    </tr>\n    <tr>\n      <th>...</th>\n      <td>...</td>\n      <td>...</td>\n      <td>...</td>\n      <td>...</td>\n      <td>...</td>\n      <td>...</td>\n      <td>...</td>\n      <td>...</td>\n    </tr>\n    <tr>\n      <th>1936</th>\n      <td>11357</td>\n      <td>0</td>\n      <td>0</td>\n      <td>0</td>\n      <td>0</td>\n      <td>0</td>\n      <td>0</td>\n      <td>369828</td>\n    </tr>\n    <tr>\n      <th>1937</th>\n      <td>15616</td>\n      <td>0</td>\n      <td>0</td>\n      <td>0</td>\n      <td>0</td>\n      <td>0</td>\n      <td>0</td>\n      <td>806310</td>\n    </tr>\n    <tr>\n      <th>1938</th>\n      <td>15047</td>\n      <td>0</td>\n      <td>0</td>\n      <td>0</td>\n      <td>0</td>\n      <td>0</td>\n      <td>0</td>\n      <td>241219</td>\n    </tr>\n    <tr>\n      <th>1939</th>\n      <td>8680</td>\n      <td>0</td>\n      <td>0</td>\n      <td>0</td>\n      <td>0</td>\n      <td>0</td>\n      <td>0</td>\n      <td>556248</td>\n    </tr>\n    <tr>\n      <th>1940</th>\n      <td>2176</td>\n      <td>0</td>\n      <td>0</td>\n      <td>0</td>\n      <td>0</td>\n      <td>0</td>\n      <td>0</td>\n      <td>771370</td>\n    </tr>\n  </tbody>\n</table>\n<p>1941 rows × 8 columns</p>\n</div>"
     },
     "execution_count": 8,
     "metadata": {},
     "output_type": "execute_result"
    }
   ],
   "source": [
    "np.seterr(divide='ignore', invalid='ignore')\n",
    "base = pd.read_csv(\"steel-plate-fault/steel_plate_fault.csv\", index_col=0)\n",
    "connections = pd.read_csv(\"steel-plate-fault/connections.csv\")\n",
    "tables = []\n",
    "for i in range(len(connections)):\n",
    "    tables.append(pd.read_csv(f\"steel-plate-fault/{connections['to_table'][i]}\").fillna(method='backfill', axis=1))\n",
    "distribution = base.groupby(\"class\").count()[\"v1\"].sort_values(ascending=False)\n",
    "proportion = distribution.iloc[0] / (distribution.iloc[0] + distribution.iloc[1])\n",
    "tables[0]"
   ],
   "metadata": {
    "collapsed": false,
    "pycharm": {
     "name": "#%%\n"
    }
   }
  },
  {
   "cell_type": "code",
   "execution_count": 9,
   "outputs": [
    {
     "name": "stdout",
     "output_type": "stream",
     "text": [
      "Accuracy train: 0.995\n",
      "Accuracy test: 0.985\n",
      "Wall time: 2.12 s\n"
     ]
    }
   ],
   "source": [
    "%%time\n",
    "table = ada.ada(base, tables, connections, proportion)\n",
    "base = pd.get_dummies(table)\n",
    "base = base.fillna(method='backfill', axis=1)\n",
    "X_train, X_test, y_train, y_test = train_test_split(base.drop(columns=[\"class\"]), base[\"class\"], test_size=0.3, random_state=42)\n",
    "scaler = StandardScaler()\n",
    "scaler.fit(X_train)\n",
    "model = model_creator(model_to_use)\n",
    "model.fit(scaler.transform(X_train), y_train)\n",
    "print('Accuracy train: %.3f' % accuracy_score(y_train, model.predict(scaler.transform(X_train))))\n",
    "print('Accuracy test: %.3f' % accuracy_score(y_test, model.predict(scaler.transform(X_test))))"
   ],
   "metadata": {
    "collapsed": false,
    "pycharm": {
     "name": "#%%\n"
    }
   }
  },
  {
   "cell_type": "code",
   "execution_count": 9,
   "outputs": [],
   "source": [],
   "metadata": {
    "collapsed": false,
    "pycharm": {
     "name": "#%%\n"
    }
   }
  }
 ],
 "metadata": {
  "kernelspec": {
   "display_name": "Python 3",
   "language": "python",
   "name": "python3"
  },
  "language_info": {
   "codemirror_mode": {
    "name": "ipython",
    "version": 2
   },
   "file_extension": ".py",
   "mimetype": "text/x-python",
   "name": "python",
   "nbconvert_exporter": "python",
   "pygments_lexer": "ipython2",
   "version": "2.7.6"
  }
 },
 "nbformat": 4,
 "nbformat_minor": 0
}