{
 "cells": [
  {
   "cell_type": "code",
   "execution_count": 1,
   "metadata": {
    "collapsed": true
   },
   "outputs": [],
   "source": [
    "import pandas as pd\n",
    "import numpy as np\n",
    "import matplotlib.pyplot as plt\n",
    "import seaborn as sns\n",
    "from sklearn.metrics import accuracy_score, f1_score, precision_score, recall_score, confusion_matrix\n",
    "from sklearn.discriminant_analysis import LinearDiscriminantAnalysis\n",
    "from sklearn.feature_selection import SelectKBest, f_classif, mutual_info_classif, chi2, RFE, SelectFromModel, SequentialFeatureSelector\n",
    "from sklearn.model_selection import train_test_split\n",
    "from sklearn import svm\n",
    "from sklearn import tree\n",
    "from sklearn import ensemble\n",
    "from sklearn.impute import SimpleImputer\n",
    "from sklearn.model_selection import GridSearchCV\n",
    "import ada"
   ]
  },
  {
   "cell_type": "code",
   "execution_count": 2,
   "metadata": {
    "pycharm": {
     "name": "#%%\n"
    }
   },
   "outputs": [],
   "source": [
    "model_to_use = \"svm\"\n",
    "def model_creator(model_to_use):\n",
    "    if model_to_use == \"cart\":\n",
    "        return tree.DecisionTreeClassifier()\n",
    "    elif model_to_use == \"random_forest\":\n",
    "        return ensemble.RandomForestClassifier()\n",
    "    elif model_to_use == \"xgboost\":\n",
    "        return ensemble.GradientBoostingClassifier()\n",
    "    elif model_to_use == \"nonlinearSVM\":\n",
    "        return svm.SVC(kernel=\"rbf\")\n",
    "    else:\n",
    "        return svm.SVC(kernel= 'linear', random_state=42)"
   ]
  },
  {
   "cell_type": "code",
   "execution_count": 3,
   "metadata": {
    "pycharm": {
     "name": "#%%\n"
    }
   },
   "outputs": [],
   "source": [
    "base = pd.read_csv(\"kidney-disease/kidney_disease.csv\", index_col=0)\n",
    "keys = base.keys()\n",
    "base = base.apply(pd.to_numeric, errors='coerce')\n",
    "imp = SimpleImputer(missing_values=np.nan, strategy='mean')\n",
    "imp.fit(base)\n",
    "base = imp.transform(base)\n",
    "base = pd.DataFrame(base, columns=keys)"
   ]
  },
  {
   "cell_type": "code",
   "execution_count": 4,
   "metadata": {
    "pycharm": {
     "name": "#%%\n"
    }
   },
   "outputs": [],
   "source": [
    "X_train, X_test, y_train, y_test = train_test_split(base.drop(columns=['class']), base[\"class\"], test_size=0.3, random_state=42)"
   ]
  },
  {
   "cell_type": "code",
   "execution_count": 5,
   "metadata": {
    "pycharm": {
     "name": "#%%\n"
    }
   },
   "outputs": [
    {
     "name": "stdout",
     "output_type": "stream",
     "text": [
      "Accuracy train: 0.729\n",
      "Accuracy test: 0.675\n",
      "Wall time: 43.9 ms\n"
     ]
    }
   ],
   "source": [
    "%%time\n",
    "model = model_creator(model_to_use)\n",
    "model.fit(X_train, y_train)\n",
    "print('Accuracy train: %.3f' % accuracy_score(y_train, model.predict(X_train)))\n",
    "print('Accuracy test: %.3f' % accuracy_score(y_test, model.predict(X_test)))"
   ]
  },
  {
   "cell_type": "code",
   "execution_count": 6,
   "outputs": [
    {
     "name": "stdout",
     "output_type": "stream",
     "text": [
      "Wall time: 42.9 ms\n"
     ]
    }
   ],
   "source": [
    "%%time\n",
    "connections = pd.read_csv(\"kidney-disease/connections.csv\")\n",
    "b = pd.read_csv(\"kidney-disease/kidney_disease.csv\")\n",
    "for i in range(len(connections)):\n",
    "    b = b.merge(pd.read_csv(f\"kidney-disease/{connections['to_table'][i]}\"), left_on=connections[\"from_key\"][i], right_on=connections[\"to_key\"][i], suffixes=('', 'y'))\n",
    "b = b[b.columns.drop(list(b.filter(regex='_id')))]\n",
    "b = pd.get_dummies(b)\n",
    "keys = b.keys()\n",
    "b = b.apply(pd.to_numeric, errors='coerce')\n",
    "imp = SimpleImputer(missing_values=np.nan, strategy='mean')\n",
    "imp.fit(b)\n",
    "b = imp.transform(b)\n",
    "b = pd.DataFrame(b, columns=keys)\n",
    "X_train, X_test, y_train, y_test = train_test_split(b.drop(columns=['class']), b[\"class\"], test_size=0.3, random_state=42)"
   ],
   "metadata": {
    "collapsed": false,
    "pycharm": {
     "name": "#%%\n"
    }
   }
  },
  {
   "cell_type": "code",
   "execution_count": 7,
   "metadata": {
    "pycharm": {
     "name": "#%%\n"
    }
   },
   "outputs": [
    {
     "name": "stdout",
     "output_type": "stream",
     "text": [
      "Accuracy train: 0.979\n",
      "Accuracy test: 0.983\n",
      "Wall time: 18.7 s\n"
     ]
    }
   ],
   "source": [
    "%%time\n",
    "clf = model_creator(model_to_use)\n",
    "clf.fit(X_train, y_train)\n",
    "print('Accuracy train: %.3f' % accuracy_score(y_train, clf.predict(X_train)))\n",
    "print('Accuracy test: %.3f' % accuracy_score(y_test, clf.predict(X_test)))\n",
    "# X_train\n"
   ]
  },
  {
   "cell_type": "code",
   "execution_count": 8,
   "outputs": [
    {
     "name": "stdout",
     "output_type": "stream",
     "text": [
      "Wall time: 7 ms\n"
     ]
    }
   ],
   "source": [
    "%%time\n",
    "X_new = SelectKBest(f_classif, k=23).fit_transform(b.drop(columns=['class']), b[\"class\"])\n",
    "X_train, X_test, y_train, y_test = train_test_split(X_new, base[\"class\"], test_size=0.3, random_state=42)\n",
    "model = model_creator(model_to_use)"
   ],
   "metadata": {
    "collapsed": false,
    "pycharm": {
     "name": "#%%\n"
    }
   }
  },
  {
   "cell_type": "code",
   "execution_count": 9,
   "metadata": {
    "pycharm": {
     "name": "#%%\n"
    }
   },
   "outputs": [
    {
     "name": "stdout",
     "output_type": "stream",
     "text": [
      "Accuracy train: 0.979\n",
      "Accuracy test: 0.983\n",
      "Wall time: 9.77 s\n"
     ]
    }
   ],
   "source": [
    "%%time\n",
    "model.fit(X_train, y_train)\n",
    "print('Accuracy train: %.3f' % accuracy_score(y_train, model.predict(X_train)))\n",
    "print('Accuracy test: %.3f' % accuracy_score(y_test, model.predict(X_test)))"
   ]
  },
  {
   "cell_type": "code",
   "execution_count": 10,
   "metadata": {
    "pycharm": {
     "name": "#%%\n"
    }
   },
   "outputs": [],
   "source": [
    "np.seterr(divide='ignore', invalid='ignore')\n",
    "base = pd.read_csv(\"kidney-disease/kidney_disease.csv\", index_col=0)\n",
    "connections = pd.read_csv(\"kidney-disease/connections.csv\")\n",
    "tables = []\n",
    "for i in range(len(connections)):\n",
    "    tables.append(pd.read_csv(f\"kidney-disease/{connections['to_table'][i]}\").fillna(method='backfill', axis=1))\n",
    "distribution = base.groupby(\"class\").count()[\"v1\"].sort_values(ascending=False)\n",
    "proportion = distribution.iloc[0] / (distribution.iloc[0] + distribution.iloc[1])\n"
   ]
  },
  {
   "cell_type": "code",
   "execution_count": 11,
   "metadata": {
    "pycharm": {
     "name": "#%%\n"
    }
   },
   "outputs": [
    {
     "name": "stdout",
     "output_type": "stream",
     "text": [
      "Accuracy train: 0.925\n",
      "Accuracy test: 0.908\n",
      "Wall time: 1min 5s\n"
     ]
    }
   ],
   "source": [
    "%%time\n",
    "table = ada.ada(base, tables, connections, proportion)\n",
    "base = pd.get_dummies(table)\n",
    "base = base.fillna(method='backfill', axis=1)\n",
    "X_train, X_test, y_train, y_test = train_test_split(base.drop(columns=[\"class\"]), base[\"class\"], test_size=0.3, random_state=42)\n",
    "model = model_creator(model_to_use)\n",
    "model.fit(X_train, y_train)\n",
    "print('Accuracy train: %.3f' % accuracy_score(y_train, model.predict(X_train)))\n",
    "print('Accuracy test: %.3f' % accuracy_score(y_test, model.predict(X_test)))"
   ]
  },
  {
   "cell_type": "code",
   "execution_count": 11,
   "outputs": [],
   "source": [],
   "metadata": {
    "collapsed": false,
    "pycharm": {
     "name": "#%%\n"
    }
   }
  }
 ],
 "metadata": {
  "kernelspec": {
   "display_name": "Python 3",
   "language": "python",
   "name": "python3"
  },
  "language_info": {
   "codemirror_mode": {
    "name": "ipython",
    "version": 3
   },
   "file_extension": ".py",
   "mimetype": "text/x-python",
   "name": "python",
   "nbconvert_exporter": "python",
   "pygments_lexer": "ipython3",
   "version": "3.8.3"
  }
 },
 "nbformat": 4,
 "nbformat_minor": 1
}