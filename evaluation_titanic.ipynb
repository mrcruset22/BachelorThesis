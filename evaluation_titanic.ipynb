{
 "cells": [
  {
   "cell_type": "code",
   "execution_count": 1,
   "metadata": {
    "collapsed": true
   },
   "outputs": [],
   "source": [
    "import pandas as pd\n",
    "import numpy as np\n",
    "import matplotlib.pyplot as plt\n",
    "import seaborn as sns\n",
    "from sklearn.metrics import accuracy_score, f1_score, precision_score, recall_score, confusion_matrix\n",
    "from sklearn.discriminant_analysis import LinearDiscriminantAnalysis\n",
    "from sklearn.feature_selection import SelectKBest, f_classif, mutual_info_classif, chi2, RFE, SelectFromModel, SequentialFeatureSelector\n",
    "from sklearn.model_selection import train_test_split\n",
    "from sklearn import svm\n",
    "from sklearn import tree\n",
    "from sklearn import ensemble\n",
    "from sklearn.impute import SimpleImputer\n",
    "from sklearn.model_selection import GridSearchCV\n",
    "import ada"
   ]
  },
  {
   "cell_type": "code",
   "execution_count": 2,
   "outputs": [],
   "source": [
    "model_to_use = \"svm\"\n",
    "def model_creator(model_to_use):\n",
    "    if model_to_use == \"cart\":\n",
    "        return tree.DecisionTreeClassifier()\n",
    "    elif model_to_use == \"random_forest\":\n",
    "        return ensemble.RandomForestClassifier()\n",
    "    elif model_to_use == \"xgboost\":\n",
    "        return ensemble.GradientBoostingClassifier()\n",
    "    elif model_to_use == \"nonlinearSVM\":\n",
    "        return svm.SVC(kernel=\"rbf\")\n",
    "    else:\n",
    "        return svm.SVC(kernel= 'linear', random_state=42)"
   ],
   "metadata": {
    "collapsed": false,
    "pycharm": {
     "name": "#%%\n"
    }
   }
  },
  {
   "cell_type": "code",
   "execution_count": 3,
   "outputs": [
    {
     "data": {
      "text/plain": "     class  v1_Abbing, Mr. Anthony  v1_Abbott, Mr. Rossmore Edward  \\\n0      0.0                     0.0                             0.0   \n1      1.0                     0.0                             0.0   \n2      1.0                     0.0                             0.0   \n3      1.0                     0.0                             0.0   \n4      0.0                     0.0                             0.0   \n..     ...                     ...                             ...   \n886    0.0                     0.0                             0.0   \n887    1.0                     0.0                             0.0   \n888    0.0                     0.0                             0.0   \n889    1.0                     0.0                             0.0   \n890    0.0                     0.0                             0.0   \n\n     v1_Abbott, Mrs. Stanton (Rosa Hunt)  v1_Abelson, Mr. Samuel  \\\n0                                    0.0                     0.0   \n1                                    0.0                     0.0   \n2                                    0.0                     0.0   \n3                                    0.0                     0.0   \n4                                    0.0                     0.0   \n..                                   ...                     ...   \n886                                  0.0                     0.0   \n887                                  0.0                     0.0   \n888                                  0.0                     0.0   \n889                                  0.0                     0.0   \n890                                  0.0                     0.0   \n\n     v1_Abelson, Mrs. Samuel (Hannah Wizosky)  \\\n0                                         0.0   \n1                                         0.0   \n2                                         0.0   \n3                                         0.0   \n4                                         0.0   \n..                                        ...   \n886                                       0.0   \n887                                       0.0   \n888                                       0.0   \n889                                       0.0   \n890                                       0.0   \n\n     v1_Adahl, Mr. Mauritz Nils Martin  v1_Adams, Mr. John  \\\n0                                  0.0                 0.0   \n1                                  0.0                 0.0   \n2                                  0.0                 0.0   \n3                                  0.0                 0.0   \n4                                  0.0                 0.0   \n..                                 ...                 ...   \n886                                0.0                 0.0   \n887                                0.0                 0.0   \n888                                0.0                 0.0   \n889                                0.0                 0.0   \n890                                0.0                 0.0   \n\n     v1_Ahlin, Mrs. Johan (Johanna Persdotter Larsson)  \\\n0                                                  0.0   \n1                                                  0.0   \n2                                                  0.0   \n3                                                  0.0   \n4                                                  0.0   \n..                                                 ...   \n886                                                0.0   \n887                                                0.0   \n888                                                0.0   \n889                                                0.0   \n890                                                0.0   \n\n     v1_Aks, Mrs. Sam (Leah Rosen)  ...  \\\n0                              0.0  ...   \n1                              0.0  ...   \n2                              0.0  ...   \n3                              0.0  ...   \n4                              0.0  ...   \n..                             ...  ...   \n886                            0.0  ...   \n887                            0.0  ...   \n888                            0.0  ...   \n889                            0.0  ...   \n890                            0.0  ...   \n\n     v1_Yrois, Miss. Henriette (\"Mrs Harbeck\")  v1_Zabour, Miss. Hileni  \\\n0                                          0.0                      0.0   \n1                                          0.0                      0.0   \n2                                          0.0                      0.0   \n3                                          0.0                      0.0   \n4                                          0.0                      0.0   \n..                                         ...                      ...   \n886                                        0.0                      0.0   \n887                                        0.0                      0.0   \n888                                        0.0                      0.0   \n889                                        0.0                      0.0   \n890                                        0.0                      0.0   \n\n     v1_Zabour, Miss. Thamine  v1_Zimmerman, Mr. Leo  \\\n0                         0.0                    0.0   \n1                         0.0                    0.0   \n2                         0.0                    0.0   \n3                         0.0                    0.0   \n4                         0.0                    0.0   \n..                        ...                    ...   \n886                       0.0                    0.0   \n887                       0.0                    0.0   \n888                       0.0                    0.0   \n889                       0.0                    0.0   \n890                       0.0                    0.0   \n\n     v1_de Messemaeker, Mrs. Guillaume Joseph (Emma)  \\\n0                                                0.0   \n1                                                0.0   \n2                                                0.0   \n3                                                0.0   \n4                                                0.0   \n..                                               ...   \n886                                              0.0   \n887                                              0.0   \n888                                              0.0   \n889                                              0.0   \n890                                              0.0   \n\n     v1_de Mulder, Mr. Theodore  v1_de Pelsmaeker, Mr. Alfons  \\\n0                           0.0                           0.0   \n1                           0.0                           0.0   \n2                           0.0                           0.0   \n3                           0.0                           0.0   \n4                           0.0                           0.0   \n..                          ...                           ...   \n886                         0.0                           0.0   \n887                         0.0                           0.0   \n888                         0.0                           0.0   \n889                         0.0                           0.0   \n890                         0.0                           0.0   \n\n     v1_del Carlo, Mr. Sebastiano  v1_van Billiard, Mr. Austin Blyler  \\\n0                             0.0                                 0.0   \n1                             0.0                                 0.0   \n2                             0.0                                 0.0   \n3                             0.0                                 0.0   \n4                             0.0                                 0.0   \n..                            ...                                 ...   \n886                           0.0                                 0.0   \n887                           0.0                                 0.0   \n888                           0.0                                 0.0   \n889                           0.0                                 0.0   \n890                           0.0                                 0.0   \n\n     v1_van Melkebeke, Mr. Philemon  \n0                               0.0  \n1                               0.0  \n2                               0.0  \n3                               0.0  \n4                               0.0  \n..                              ...  \n886                             0.0  \n887                             0.0  \n888                             0.0  \n889                             0.0  \n890                             0.0  \n\n[891 rows x 892 columns]",
      "text/html": "<div>\n<style scoped>\n    .dataframe tbody tr th:only-of-type {\n        vertical-align: middle;\n    }\n\n    .dataframe tbody tr th {\n        vertical-align: top;\n    }\n\n    .dataframe thead th {\n        text-align: right;\n    }\n</style>\n<table border=\"1\" class=\"dataframe\">\n  <thead>\n    <tr style=\"text-align: right;\">\n      <th></th>\n      <th>class</th>\n      <th>v1_Abbing, Mr. Anthony</th>\n      <th>v1_Abbott, Mr. Rossmore Edward</th>\n      <th>v1_Abbott, Mrs. Stanton (Rosa Hunt)</th>\n      <th>v1_Abelson, Mr. Samuel</th>\n      <th>v1_Abelson, Mrs. Samuel (Hannah Wizosky)</th>\n      <th>v1_Adahl, Mr. Mauritz Nils Martin</th>\n      <th>v1_Adams, Mr. John</th>\n      <th>v1_Ahlin, Mrs. Johan (Johanna Persdotter Larsson)</th>\n      <th>v1_Aks, Mrs. Sam (Leah Rosen)</th>\n      <th>...</th>\n      <th>v1_Yrois, Miss. Henriette (\"Mrs Harbeck\")</th>\n      <th>v1_Zabour, Miss. Hileni</th>\n      <th>v1_Zabour, Miss. Thamine</th>\n      <th>v1_Zimmerman, Mr. Leo</th>\n      <th>v1_de Messemaeker, Mrs. Guillaume Joseph (Emma)</th>\n      <th>v1_de Mulder, Mr. Theodore</th>\n      <th>v1_de Pelsmaeker, Mr. Alfons</th>\n      <th>v1_del Carlo, Mr. Sebastiano</th>\n      <th>v1_van Billiard, Mr. Austin Blyler</th>\n      <th>v1_van Melkebeke, Mr. Philemon</th>\n    </tr>\n  </thead>\n  <tbody>\n    <tr>\n      <th>0</th>\n      <td>0.0</td>\n      <td>0.0</td>\n      <td>0.0</td>\n      <td>0.0</td>\n      <td>0.0</td>\n      <td>0.0</td>\n      <td>0.0</td>\n      <td>0.0</td>\n      <td>0.0</td>\n      <td>0.0</td>\n      <td>...</td>\n      <td>0.0</td>\n      <td>0.0</td>\n      <td>0.0</td>\n      <td>0.0</td>\n      <td>0.0</td>\n      <td>0.0</td>\n      <td>0.0</td>\n      <td>0.0</td>\n      <td>0.0</td>\n      <td>0.0</td>\n    </tr>\n    <tr>\n      <th>1</th>\n      <td>1.0</td>\n      <td>0.0</td>\n      <td>0.0</td>\n      <td>0.0</td>\n      <td>0.0</td>\n      <td>0.0</td>\n      <td>0.0</td>\n      <td>0.0</td>\n      <td>0.0</td>\n      <td>0.0</td>\n      <td>...</td>\n      <td>0.0</td>\n      <td>0.0</td>\n      <td>0.0</td>\n      <td>0.0</td>\n      <td>0.0</td>\n      <td>0.0</td>\n      <td>0.0</td>\n      <td>0.0</td>\n      <td>0.0</td>\n      <td>0.0</td>\n    </tr>\n    <tr>\n      <th>2</th>\n      <td>1.0</td>\n      <td>0.0</td>\n      <td>0.0</td>\n      <td>0.0</td>\n      <td>0.0</td>\n      <td>0.0</td>\n      <td>0.0</td>\n      <td>0.0</td>\n      <td>0.0</td>\n      <td>0.0</td>\n      <td>...</td>\n      <td>0.0</td>\n      <td>0.0</td>\n      <td>0.0</td>\n      <td>0.0</td>\n      <td>0.0</td>\n      <td>0.0</td>\n      <td>0.0</td>\n      <td>0.0</td>\n      <td>0.0</td>\n      <td>0.0</td>\n    </tr>\n    <tr>\n      <th>3</th>\n      <td>1.0</td>\n      <td>0.0</td>\n      <td>0.0</td>\n      <td>0.0</td>\n      <td>0.0</td>\n      <td>0.0</td>\n      <td>0.0</td>\n      <td>0.0</td>\n      <td>0.0</td>\n      <td>0.0</td>\n      <td>...</td>\n      <td>0.0</td>\n      <td>0.0</td>\n      <td>0.0</td>\n      <td>0.0</td>\n      <td>0.0</td>\n      <td>0.0</td>\n      <td>0.0</td>\n      <td>0.0</td>\n      <td>0.0</td>\n      <td>0.0</td>\n    </tr>\n    <tr>\n      <th>4</th>\n      <td>0.0</td>\n      <td>0.0</td>\n      <td>0.0</td>\n      <td>0.0</td>\n      <td>0.0</td>\n      <td>0.0</td>\n      <td>0.0</td>\n      <td>0.0</td>\n      <td>0.0</td>\n      <td>0.0</td>\n      <td>...</td>\n      <td>0.0</td>\n      <td>0.0</td>\n      <td>0.0</td>\n      <td>0.0</td>\n      <td>0.0</td>\n      <td>0.0</td>\n      <td>0.0</td>\n      <td>0.0</td>\n      <td>0.0</td>\n      <td>0.0</td>\n    </tr>\n    <tr>\n      <th>...</th>\n      <td>...</td>\n      <td>...</td>\n      <td>...</td>\n      <td>...</td>\n      <td>...</td>\n      <td>...</td>\n      <td>...</td>\n      <td>...</td>\n      <td>...</td>\n      <td>...</td>\n      <td>...</td>\n      <td>...</td>\n      <td>...</td>\n      <td>...</td>\n      <td>...</td>\n      <td>...</td>\n      <td>...</td>\n      <td>...</td>\n      <td>...</td>\n      <td>...</td>\n      <td>...</td>\n    </tr>\n    <tr>\n      <th>886</th>\n      <td>0.0</td>\n      <td>0.0</td>\n      <td>0.0</td>\n      <td>0.0</td>\n      <td>0.0</td>\n      <td>0.0</td>\n      <td>0.0</td>\n      <td>0.0</td>\n      <td>0.0</td>\n      <td>0.0</td>\n      <td>...</td>\n      <td>0.0</td>\n      <td>0.0</td>\n      <td>0.0</td>\n      <td>0.0</td>\n      <td>0.0</td>\n      <td>0.0</td>\n      <td>0.0</td>\n      <td>0.0</td>\n      <td>0.0</td>\n      <td>0.0</td>\n    </tr>\n    <tr>\n      <th>887</th>\n      <td>1.0</td>\n      <td>0.0</td>\n      <td>0.0</td>\n      <td>0.0</td>\n      <td>0.0</td>\n      <td>0.0</td>\n      <td>0.0</td>\n      <td>0.0</td>\n      <td>0.0</td>\n      <td>0.0</td>\n      <td>...</td>\n      <td>0.0</td>\n      <td>0.0</td>\n      <td>0.0</td>\n      <td>0.0</td>\n      <td>0.0</td>\n      <td>0.0</td>\n      <td>0.0</td>\n      <td>0.0</td>\n      <td>0.0</td>\n      <td>0.0</td>\n    </tr>\n    <tr>\n      <th>888</th>\n      <td>0.0</td>\n      <td>0.0</td>\n      <td>0.0</td>\n      <td>0.0</td>\n      <td>0.0</td>\n      <td>0.0</td>\n      <td>0.0</td>\n      <td>0.0</td>\n      <td>0.0</td>\n      <td>0.0</td>\n      <td>...</td>\n      <td>0.0</td>\n      <td>0.0</td>\n      <td>0.0</td>\n      <td>0.0</td>\n      <td>0.0</td>\n      <td>0.0</td>\n      <td>0.0</td>\n      <td>0.0</td>\n      <td>0.0</td>\n      <td>0.0</td>\n    </tr>\n    <tr>\n      <th>889</th>\n      <td>1.0</td>\n      <td>0.0</td>\n      <td>0.0</td>\n      <td>0.0</td>\n      <td>0.0</td>\n      <td>0.0</td>\n      <td>0.0</td>\n      <td>0.0</td>\n      <td>0.0</td>\n      <td>0.0</td>\n      <td>...</td>\n      <td>0.0</td>\n      <td>0.0</td>\n      <td>0.0</td>\n      <td>0.0</td>\n      <td>0.0</td>\n      <td>0.0</td>\n      <td>0.0</td>\n      <td>0.0</td>\n      <td>0.0</td>\n      <td>0.0</td>\n    </tr>\n    <tr>\n      <th>890</th>\n      <td>0.0</td>\n      <td>0.0</td>\n      <td>0.0</td>\n      <td>0.0</td>\n      <td>0.0</td>\n      <td>0.0</td>\n      <td>0.0</td>\n      <td>0.0</td>\n      <td>0.0</td>\n      <td>0.0</td>\n      <td>...</td>\n      <td>0.0</td>\n      <td>0.0</td>\n      <td>0.0</td>\n      <td>0.0</td>\n      <td>0.0</td>\n      <td>0.0</td>\n      <td>0.0</td>\n      <td>0.0</td>\n      <td>0.0</td>\n      <td>0.0</td>\n    </tr>\n  </tbody>\n</table>\n<p>891 rows × 892 columns</p>\n</div>"
     },
     "execution_count": 3,
     "metadata": {},
     "output_type": "execute_result"
    }
   ],
   "source": [
    "base = pd.read_csv(\"titanic/titanic.csv\", index_col=0)\n",
    "base = pd.get_dummies(base)\n",
    "keys = base.keys()\n",
    "base = base.apply(pd.to_numeric, errors='coerce')\n",
    "imp = SimpleImputer(missing_values=np.nan, strategy='mean')\n",
    "imp.fit(base)\n",
    "base = imp.transform(base)\n",
    "base = pd.DataFrame(base, columns=keys)\n",
    "base"
   ],
   "metadata": {
    "collapsed": false,
    "pycharm": {
     "name": "#%%\n"
    }
   }
  },
  {
   "cell_type": "code",
   "execution_count": 4,
   "outputs": [],
   "source": [
    "X_train, X_test, y_train, y_test = train_test_split(base.drop(columns=['class']), base[\"class\"], test_size=0.3, random_state=42)"
   ],
   "metadata": {
    "collapsed": false,
    "pycharm": {
     "name": "#%%\n"
    }
   }
  },
  {
   "cell_type": "code",
   "execution_count": 5,
   "outputs": [
    {
     "name": "stdout",
     "output_type": "stream",
     "text": [
      "Accuracy train: 1.000\n",
      "Accuracy test: 0.586\n",
      "Wall time: 377 ms\n"
     ]
    }
   ],
   "source": [
    "%%time\n",
    "model = model_creator(model_to_use)\n",
    "model.fit(X_train, y_train)\n",
    "print('Accuracy train: %.3f' % accuracy_score(y_train, model.predict(X_train)))\n",
    "print('Accuracy test: %.3f' % accuracy_score(y_test, model.predict(X_test)))"
   ],
   "metadata": {
    "collapsed": false,
    "pycharm": {
     "name": "#%%\n"
    }
   }
  },
  {
   "cell_type": "code",
   "execution_count": 6,
   "outputs": [
    {
     "name": "stdout",
     "output_type": "stream",
     "text": [
      "Wall time: 205 ms\n"
     ]
    }
   ],
   "source": [
    "%%time\n",
    "connections = pd.read_csv(\"titanic/connections.csv\")\n",
    "b = pd.read_csv(\"titanic/titanic.csv\")\n",
    "for i in range(len(connections)):\n",
    "    b = b.merge(pd.read_csv(f\"titanic/{connections['to_table'][i]}\"), left_on=connections[\"from_key\"][i], right_on=connections[\"to_key\"][i], suffixes=('', 'y'))\n",
    "b = b[b.columns.drop(list(b.filter(regex='_id')))]\n",
    "b = pd.get_dummies(b)\n",
    "keys = b.keys()\n",
    "b = b.apply(pd.to_numeric, errors='coerce')\n",
    "imp = SimpleImputer(missing_values=np.nan, strategy='mean')\n",
    "imp.fit(b)\n",
    "b = imp.transform(b)\n",
    "b = pd.DataFrame(b, columns=keys)\n",
    "X_train, X_test, y_train, y_test = train_test_split(b.drop(columns=['class']), b[\"class\"], test_size=0.3, random_state=42)"
   ],
   "metadata": {
    "collapsed": false,
    "pycharm": {
     "name": "#%%\n"
    }
   }
  },
  {
   "cell_type": "code",
   "execution_count": 7,
   "outputs": [
    {
     "name": "stdout",
     "output_type": "stream",
     "text": [
      "Accuracy train: 1.000\n",
      "Accuracy test: 0.784\n",
      "Wall time: 393 ms\n"
     ]
    },
    {
     "data": {
      "text/plain": "            v4   v5   v6        v8   v9  v1_Allen, Miss. Elisabeth Walton  \\\n15   24.000000  0.0  0.0    8.0500  3.0                               0.0   \n6    28.000000  0.0  0.0   35.5000  1.0                               0.0   \n234  36.000000  0.0  2.0   71.0000  1.0                               0.0   \n272  21.000000  0.0  0.0   77.9583  1.0                               0.0   \n93   58.000000  0.0  0.0  146.5208  1.0                               0.0   \n..         ...  ...  ...       ...  ...                               ...   \n188  23.000000  1.0  0.0  113.2750  1.0                               0.0   \n71   33.750547  1.0  1.0   22.3583  3.0                               0.0   \n106  44.000000  2.0  0.0   90.0000  1.0                               0.0   \n270  43.000000  0.0  1.0  211.3375  1.0                               0.0   \n102  35.000000  1.0  0.0   83.4750  1.0                               0.0   \n\n     v1_Allison, Master. Hudson Trevor  v1_Allison, Miss. Helen Loraine  \\\n15                                 0.0                              0.0   \n6                                  0.0                              0.0   \n234                                0.0                              0.0   \n272                                0.0                              0.0   \n93                                 0.0                              0.0   \n..                                 ...                              ...   \n188                                0.0                              0.0   \n71                                 0.0                              0.0   \n106                                0.0                              0.0   \n270                                0.0                              0.0   \n102                                0.0                              0.0   \n\n     v1_Allison, Mrs. Hudson J C (Bessie Waldo Daniels)  \\\n15                                                 0.0    \n6                                                  0.0    \n234                                                0.0    \n272                                                0.0    \n93                                                 0.0    \n..                                                 ...    \n188                                                0.0    \n71                                                 0.0    \n106                                                0.0    \n270                                                0.0    \n102                                                0.0    \n\n     v1_Anderson, Mr. Harry  ...  v11_E8  v11_F E69  v11_F G63  v11_F G73  \\\n15                      0.0  ...     0.0        0.0        0.0        0.0   \n6                       0.0  ...     0.0        0.0        0.0        0.0   \n234                     0.0  ...     0.0        0.0        0.0        0.0   \n272                     0.0  ...     0.0        0.0        0.0        0.0   \n93                      0.0  ...     0.0        0.0        0.0        0.0   \n..                      ...  ...     ...        ...        ...        ...   \n188                     0.0  ...     0.0        0.0        0.0        0.0   \n71                      0.0  ...     0.0        1.0        0.0        0.0   \n106                     0.0  ...     0.0        0.0        0.0        0.0   \n270                     0.0  ...     0.0        0.0        0.0        0.0   \n102                     0.0  ...     0.0        0.0        0.0        0.0   \n\n     v11_F2  v11_F33  v11_F38  v11_F4  v11_G6  v11_T  \n15      0.0      0.0      0.0     0.0     0.0    0.0  \n6       0.0      0.0      0.0     0.0     0.0    0.0  \n234     0.0      0.0      0.0     0.0     0.0    0.0  \n272     0.0      0.0      0.0     0.0     0.0    0.0  \n93      0.0      0.0      0.0     0.0     0.0    0.0  \n..      ...      ...      ...     ...     ...    ...  \n188     0.0      0.0      0.0     0.0     0.0    0.0  \n71      0.0      0.0      0.0     0.0     0.0    0.0  \n106     0.0      0.0      0.0     0.0     0.0    0.0  \n270     0.0      0.0      0.0     0.0     0.0    0.0  \n102     0.0      0.0      0.0     0.0     0.0    0.0  \n\n[235 rows x 752 columns]",
      "text/html": "<div>\n<style scoped>\n    .dataframe tbody tr th:only-of-type {\n        vertical-align: middle;\n    }\n\n    .dataframe tbody tr th {\n        vertical-align: top;\n    }\n\n    .dataframe thead th {\n        text-align: right;\n    }\n</style>\n<table border=\"1\" class=\"dataframe\">\n  <thead>\n    <tr style=\"text-align: right;\">\n      <th></th>\n      <th>v4</th>\n      <th>v5</th>\n      <th>v6</th>\n      <th>v8</th>\n      <th>v9</th>\n      <th>v1_Allen, Miss. Elisabeth Walton</th>\n      <th>v1_Allison, Master. Hudson Trevor</th>\n      <th>v1_Allison, Miss. Helen Loraine</th>\n      <th>v1_Allison, Mrs. Hudson J C (Bessie Waldo Daniels)</th>\n      <th>v1_Anderson, Mr. Harry</th>\n      <th>...</th>\n      <th>v11_E8</th>\n      <th>v11_F E69</th>\n      <th>v11_F G63</th>\n      <th>v11_F G73</th>\n      <th>v11_F2</th>\n      <th>v11_F33</th>\n      <th>v11_F38</th>\n      <th>v11_F4</th>\n      <th>v11_G6</th>\n      <th>v11_T</th>\n    </tr>\n  </thead>\n  <tbody>\n    <tr>\n      <th>15</th>\n      <td>24.000000</td>\n      <td>0.0</td>\n      <td>0.0</td>\n      <td>8.0500</td>\n      <td>3.0</td>\n      <td>0.0</td>\n      <td>0.0</td>\n      <td>0.0</td>\n      <td>0.0</td>\n      <td>0.0</td>\n      <td>...</td>\n      <td>0.0</td>\n      <td>0.0</td>\n      <td>0.0</td>\n      <td>0.0</td>\n      <td>0.0</td>\n      <td>0.0</td>\n      <td>0.0</td>\n      <td>0.0</td>\n      <td>0.0</td>\n      <td>0.0</td>\n    </tr>\n    <tr>\n      <th>6</th>\n      <td>28.000000</td>\n      <td>0.0</td>\n      <td>0.0</td>\n      <td>35.5000</td>\n      <td>1.0</td>\n      <td>0.0</td>\n      <td>0.0</td>\n      <td>0.0</td>\n      <td>0.0</td>\n      <td>0.0</td>\n      <td>...</td>\n      <td>0.0</td>\n      <td>0.0</td>\n      <td>0.0</td>\n      <td>0.0</td>\n      <td>0.0</td>\n      <td>0.0</td>\n      <td>0.0</td>\n      <td>0.0</td>\n      <td>0.0</td>\n      <td>0.0</td>\n    </tr>\n    <tr>\n      <th>234</th>\n      <td>36.000000</td>\n      <td>0.0</td>\n      <td>2.0</td>\n      <td>71.0000</td>\n      <td>1.0</td>\n      <td>0.0</td>\n      <td>0.0</td>\n      <td>0.0</td>\n      <td>0.0</td>\n      <td>0.0</td>\n      <td>...</td>\n      <td>0.0</td>\n      <td>0.0</td>\n      <td>0.0</td>\n      <td>0.0</td>\n      <td>0.0</td>\n      <td>0.0</td>\n      <td>0.0</td>\n      <td>0.0</td>\n      <td>0.0</td>\n      <td>0.0</td>\n    </tr>\n    <tr>\n      <th>272</th>\n      <td>21.000000</td>\n      <td>0.0</td>\n      <td>0.0</td>\n      <td>77.9583</td>\n      <td>1.0</td>\n      <td>0.0</td>\n      <td>0.0</td>\n      <td>0.0</td>\n      <td>0.0</td>\n      <td>0.0</td>\n      <td>...</td>\n      <td>0.0</td>\n      <td>0.0</td>\n      <td>0.0</td>\n      <td>0.0</td>\n      <td>0.0</td>\n      <td>0.0</td>\n      <td>0.0</td>\n      <td>0.0</td>\n      <td>0.0</td>\n      <td>0.0</td>\n    </tr>\n    <tr>\n      <th>93</th>\n      <td>58.000000</td>\n      <td>0.0</td>\n      <td>0.0</td>\n      <td>146.5208</td>\n      <td>1.0</td>\n      <td>0.0</td>\n      <td>0.0</td>\n      <td>0.0</td>\n      <td>0.0</td>\n      <td>0.0</td>\n      <td>...</td>\n      <td>0.0</td>\n      <td>0.0</td>\n      <td>0.0</td>\n      <td>0.0</td>\n      <td>0.0</td>\n      <td>0.0</td>\n      <td>0.0</td>\n      <td>0.0</td>\n      <td>0.0</td>\n      <td>0.0</td>\n    </tr>\n    <tr>\n      <th>...</th>\n      <td>...</td>\n      <td>...</td>\n      <td>...</td>\n      <td>...</td>\n      <td>...</td>\n      <td>...</td>\n      <td>...</td>\n      <td>...</td>\n      <td>...</td>\n      <td>...</td>\n      <td>...</td>\n      <td>...</td>\n      <td>...</td>\n      <td>...</td>\n      <td>...</td>\n      <td>...</td>\n      <td>...</td>\n      <td>...</td>\n      <td>...</td>\n      <td>...</td>\n      <td>...</td>\n    </tr>\n    <tr>\n      <th>188</th>\n      <td>23.000000</td>\n      <td>1.0</td>\n      <td>0.0</td>\n      <td>113.2750</td>\n      <td>1.0</td>\n      <td>0.0</td>\n      <td>0.0</td>\n      <td>0.0</td>\n      <td>0.0</td>\n      <td>0.0</td>\n      <td>...</td>\n      <td>0.0</td>\n      <td>0.0</td>\n      <td>0.0</td>\n      <td>0.0</td>\n      <td>0.0</td>\n      <td>0.0</td>\n      <td>0.0</td>\n      <td>0.0</td>\n      <td>0.0</td>\n      <td>0.0</td>\n    </tr>\n    <tr>\n      <th>71</th>\n      <td>33.750547</td>\n      <td>1.0</td>\n      <td>1.0</td>\n      <td>22.3583</td>\n      <td>3.0</td>\n      <td>0.0</td>\n      <td>0.0</td>\n      <td>0.0</td>\n      <td>0.0</td>\n      <td>0.0</td>\n      <td>...</td>\n      <td>0.0</td>\n      <td>1.0</td>\n      <td>0.0</td>\n      <td>0.0</td>\n      <td>0.0</td>\n      <td>0.0</td>\n      <td>0.0</td>\n      <td>0.0</td>\n      <td>0.0</td>\n      <td>0.0</td>\n    </tr>\n    <tr>\n      <th>106</th>\n      <td>44.000000</td>\n      <td>2.0</td>\n      <td>0.0</td>\n      <td>90.0000</td>\n      <td>1.0</td>\n      <td>0.0</td>\n      <td>0.0</td>\n      <td>0.0</td>\n      <td>0.0</td>\n      <td>0.0</td>\n      <td>...</td>\n      <td>0.0</td>\n      <td>0.0</td>\n      <td>0.0</td>\n      <td>0.0</td>\n      <td>0.0</td>\n      <td>0.0</td>\n      <td>0.0</td>\n      <td>0.0</td>\n      <td>0.0</td>\n      <td>0.0</td>\n    </tr>\n    <tr>\n      <th>270</th>\n      <td>43.000000</td>\n      <td>0.0</td>\n      <td>1.0</td>\n      <td>211.3375</td>\n      <td>1.0</td>\n      <td>0.0</td>\n      <td>0.0</td>\n      <td>0.0</td>\n      <td>0.0</td>\n      <td>0.0</td>\n      <td>...</td>\n      <td>0.0</td>\n      <td>0.0</td>\n      <td>0.0</td>\n      <td>0.0</td>\n      <td>0.0</td>\n      <td>0.0</td>\n      <td>0.0</td>\n      <td>0.0</td>\n      <td>0.0</td>\n      <td>0.0</td>\n    </tr>\n    <tr>\n      <th>102</th>\n      <td>35.000000</td>\n      <td>1.0</td>\n      <td>0.0</td>\n      <td>83.4750</td>\n      <td>1.0</td>\n      <td>0.0</td>\n      <td>0.0</td>\n      <td>0.0</td>\n      <td>0.0</td>\n      <td>0.0</td>\n      <td>...</td>\n      <td>0.0</td>\n      <td>0.0</td>\n      <td>0.0</td>\n      <td>0.0</td>\n      <td>0.0</td>\n      <td>0.0</td>\n      <td>0.0</td>\n      <td>0.0</td>\n      <td>0.0</td>\n      <td>0.0</td>\n    </tr>\n  </tbody>\n</table>\n<p>235 rows × 752 columns</p>\n</div>"
     },
     "execution_count": 7,
     "metadata": {},
     "output_type": "execute_result"
    }
   ],
   "source": [
    "%%time\n",
    "clf = model_creator(model_to_use)\n",
    "clf.fit(X_train, y_train)\n",
    "print('Accuracy train: %.3f' % accuracy_score(y_train, clf.predict(X_train)))\n",
    "print('Accuracy test: %.3f' % accuracy_score(y_test, clf.predict(X_test)))\n",
    "X_train"
   ],
   "metadata": {
    "collapsed": false,
    "pycharm": {
     "name": "#%%\n"
    }
   }
  },
  {
   "cell_type": "code",
   "execution_count": 8,
   "outputs": [
    {
     "name": "stdout",
     "output_type": "stream",
     "text": [
      "Accuracy train: 0.830\n",
      "Accuracy test: 0.755\n",
      "Wall time: 57.1 ms\n"
     ]
    }
   ],
   "source": [
    "%%time\n",
    "X_new = SelectKBest(f_classif, k=30).fit_transform(b.drop(columns=['class']), b[\"class\"])\n",
    "X_train, X_test, y_train, y_test = train_test_split(X_new, b[\"class\"], test_size=0.3, random_state=42)\n",
    "model = model_creator(model_to_use)\n",
    "model.fit(X_train, y_train)\n",
    "print('Accuracy train: %.3f' % accuracy_score(y_train, model.predict(X_train)))\n",
    "print('Accuracy test: %.3f' % accuracy_score(y_test, model.predict(X_test)))"
   ],
   "metadata": {
    "collapsed": false,
    "pycharm": {
     "name": "#%%\n"
    }
   }
  },
  {
   "cell_type": "code",
   "execution_count": 9,
   "outputs": [],
   "source": [
    "np.seterr(divide='ignore', invalid='ignore')\n",
    "base = pd.read_csv(\"titanic/titanic.csv\", index_col=0)\n",
    "connections = pd.read_csv(\"titanic/connections.csv\")\n",
    "tables = []\n",
    "for i in range(len(connections)):\n",
    "    tables.append(pd.read_csv(f\"titanic/{connections['to_table'][i]}\").fillna(method='backfill', axis=1))\n",
    "distribution = base.groupby(\"class\").count()[\"v1\"].sort_values(ascending=False)\n",
    "proportion = distribution.iloc[0] / (distribution.iloc[0] + distribution.iloc[1])"
   ],
   "metadata": {
    "collapsed": false,
    "pycharm": {
     "name": "#%%\n"
    }
   }
  },
  {
   "cell_type": "code",
   "execution_count": 10,
   "outputs": [
    {
     "name": "stdout",
     "output_type": "stream",
     "text": [
      "Accuracy train: 0.996\n",
      "Accuracy test: 0.740\n",
      "Wall time: 1.65 s\n"
     ]
    }
   ],
   "source": [
    "%%time\n",
    "table = ada.ada(base, tables, connections, proportion)\n",
    "base = pd.get_dummies(table)\n",
    "base = base.fillna(method='backfill', axis=1)\n",
    "X_train, X_test, y_train, y_test = train_test_split(base.drop(columns=[\"class\"]), base[\"class\"], test_size=0.3, random_state=42)\n",
    "model = model_creator(model_to_use)\n",
    "model.fit(X_train, y_train)\n",
    "print('Accuracy train: %.3f' % accuracy_score(y_train, model.predict(X_train)))\n",
    "print('Accuracy test: %.3f' % accuracy_score(y_test, model.predict(X_test)))"
   ],
   "metadata": {
    "collapsed": false,
    "pycharm": {
     "name": "#%%\n"
    }
   }
  },
  {
   "cell_type": "code",
   "execution_count": 10,
   "outputs": [],
   "source": [],
   "metadata": {
    "collapsed": false,
    "pycharm": {
     "name": "#%%\n"
    }
   }
  }
 ],
 "metadata": {
  "kernelspec": {
   "display_name": "Python 3",
   "language": "python",
   "name": "python3"
  },
  "language_info": {
   "codemirror_mode": {
    "name": "ipython",
    "version": 2
   },
   "file_extension": ".py",
   "mimetype": "text/x-python",
   "name": "python",
   "nbconvert_exporter": "python",
   "pygments_lexer": "ipython2",
   "version": "2.7.6"
  }
 },
 "nbformat": 4,
 "nbformat_minor": 0
}